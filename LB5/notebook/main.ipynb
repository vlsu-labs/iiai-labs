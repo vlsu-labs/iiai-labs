{
 "cells": [
  {
   "cell_type": "code",
   "execution_count": null,
   "metadata": {},
   "outputs": [],
   "source": [
    "torch = {version = \"*\", index = \"downloadpytorch\"}\n",
    "torchvision = {version = \"*\", index = \"downloadpytorch\"}\n",
    "torchaudio = {version = \"*\", index = \"downloadpytorch\"}"
   ]
  }
 ],
 "metadata": {
  "language_info": {
   "name": "python"
  }
 },
 "nbformat": 4,
 "nbformat_minor": 2
}
